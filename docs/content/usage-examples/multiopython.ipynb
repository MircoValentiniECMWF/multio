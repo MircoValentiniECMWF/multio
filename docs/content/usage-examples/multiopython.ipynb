{
 "cells": [
  {
   "cell_type": "markdown",
   "id": "eca91433-b8e7-4314-a413-c6eff09dabc7",
   "metadata": {},
   "source": [
    "# Multio Python Example"
   ]
  },
  {
   "cell_type": "markdown",
   "id": "4ea10ba9-6490-4da5-abca-ae399be12ae1",
   "metadata": {},
   "source": [
    "A simple example of the multio python interface for the client side."
   ]
  },
  {
   "cell_type": "code",
   "execution_count": 1,
   "id": "9b3c070a-727b-4dfb-9b9a-fd78f577e818",
   "metadata": {},
   "outputs": [],
   "source": [
    "import multiopython as Multio"
   ]
  },
  {
   "cell_type": "markdown",
   "id": "0be2da90-548b-4401-bffb-637146735384",
   "metadata": {},
   "source": [
    "We first need a Plan file for multio. An example plan has been provided here called ```testPlan.yaml```."
   ]
  },
  {
   "cell_type": "code",
   "execution_count": 2,
   "id": "68b8fb9c-6593-4511-9561-7d07e4e78631",
   "metadata": {},
   "outputs": [],
   "source": [
    "config_path = 'testPlan.yaml'"
   ]
  },
  {
   "cell_type": "markdown",
   "id": "7368847d-788e-49b1-8eaa-c812e9c30c77",
   "metadata": {},
   "source": [
    "We have to pass this plan as a field in the dictionary. If no path is provided multio will look for a plan in the environment variable ```MULTIO_SERVER_CONFIG_FILE``` and will use this if a plan exists there.\n",
    "We can also pass in a number of parameters which will be used by multio. If these parameters are not passed multio will use default values for these."
   ]
  },
  {
   "cell_type": "code",
   "execution_count": 3,
   "id": "39eb0861-ad36-40b0-8b37-7aa071341d69",
   "metadata": {},
   "outputs": [],
   "source": [
    "example_dict = {\n",
    "      \"config_path\" : config_path,\n",
    "      \"allow_world\" : True,\n",
    "      \"parent_comm\" : 1,\n",
    "      \"client_comm\" : [2,3],\n",
    "      \"server_comm\" : [4,5]\n",
    "    }"
   ]
  },
  {
   "cell_type": "code",
   "execution_count": 4,
   "id": "eeee6f9c-e2d2-4d9b-b4f2-3ac3f8b63576",
   "metadata": {},
   "outputs": [
    {
     "data": {
      "text/plain": [
       "{'config_path': 'testPlan.yaml',\n",
       " 'allow_world': True,\n",
       " 'parent_comm': 1,\n",
       " 'client_comm': [2, 3],\n",
       " 'server_comm': [4, 5]}"
      ]
     },
     "execution_count": 4,
     "metadata": {},
     "output_type": "execute_result"
    }
   ],
   "source": [
    "example_dict"
   ]
  },
  {
   "cell_type": "markdown",
   "id": "7a57f870-4716-4b1a-a9e9-b9eaa6735a51",
   "metadata": {},
   "source": [
    "We now initialise Multio and create a Multio object that we will use to interact with the C Api. We pass in our config which should point to our plan and any paramters we want to set from the config."
   ]
  },
  {
   "cell_type": "code",
   "execution_count": 5,
   "id": "37f9f335-d0e5-4c60-9916-9f4573e4a79b",
   "metadata": {},
   "outputs": [
    {
     "name": "stdout",
     "output_type": "stream",
     "text": [
      "0\n",
      "path = testWriteOutput.grib\n"
     ]
    }
   ],
   "source": [
    "Multio = Multio.Multio(example_dict)"
   ]
  },
  {
   "cell_type": "markdown",
   "id": "3e816974-3c4b-40c8-817f-8562bd8528af",
   "metadata": {},
   "source": [
    "We can now create metdata through the Multio object. Metadata is created using a dictionary that contains any metadata you want. The python interface will infer what type the data is from its values and will add it to our metadata."
   ]
  },
  {
   "cell_type": "code",
   "execution_count": 6,
   "id": "7800f93a-a26b-4466-9dc4-2e30a1cf7789",
   "metadata": {},
   "outputs": [],
   "source": [
    "metadata = {'name' : 'example',\n",
    "  'new_int' : 1,\n",
    "  'new_float' : 1.0,\n",
    "  'trigger' : 'step', # Required if we want to use Multio.notify()\n",
    "  'step': 1\n",
    "}\n",
    "Multio.create_metadata(metadata)"
   ]
  },
  {
   "cell_type": "markdown",
   "id": "49a9fbe3-d429-43e8-bafe-54628427b3e6",
   "metadata": {},
   "source": [
    "We can now open connections and then write some data, in this case to a grib file whose path is outlined in our plan."
   ]
  },
  {
   "cell_type": "code",
   "execution_count": 7,
   "id": "a0c0cb74-be83-4520-833c-8ffad8a4e380",
   "metadata": {},
   "outputs": [
    {
     "name": "stdout",
     "output_type": "stream",
     "text": [
      "Message(version=1, tag=Field, source=Peer(group=null,id=18446744073709551615), destination=Peer(group=null,id=18446744073709551615), metadata={\"name\":\"example\",\"new_int\":1,\"new_float\":1,\"trigger\":\"step\",\"step\":1,\"precision\":\"single\"}, payload-size=16)\n"
     ]
    }
   ],
   "source": [
    "Multio.open_connections()\n",
    "\n",
    "Multio.write_field([1.0, 2.0, 3.0, 4.0])"
   ]
  },
  {
   "cell_type": "markdown",
   "id": "c5fb8305-5d04-44e2-9609-272cf703b290",
   "metadata": {},
   "source": [
    "We can then call the flush function to make sure all servers have completed a step."
   ]
  },
  {
   "cell_type": "code",
   "execution_count": 8,
   "id": "193860cd-bdce-4554-8e40-59e713fcc0f4",
   "metadata": {},
   "outputs": [
    {
     "name": "stdout",
     "output_type": "stream",
     "text": [
      "Message(version=1, tag=Flush, source=Peer(group=null,id=18446744073709551615), destination=Peer(group=null,id=18446744073709551615), metadata={\"name\":\"example\",\"new_int\":1,\"new_float\":1,\"trigger\":\"step\",\"step\":1,\"precision\":\"single\"}, payload-size=0)\n",
      "Flushing FileSink(path=testWriteOutput.grib)\n"
     ]
    }
   ],
   "source": [
    "Multio.flush()"
   ]
  },
  {
   "cell_type": "markdown",
   "id": "0fd1834d-bbdb-413e-bc54-fe557cf5f4c2",
   "metadata": {},
   "source": [
    "We can then notify all servers and potentially perform triggers on sinks."
   ]
  },
  {
   "cell_type": "code",
   "execution_count": 9,
   "id": "63117ea5-2507-474d-8cff-c32052fca67d",
   "metadata": {},
   "outputs": [
    {
     "name": "stdout",
     "output_type": "stream",
     "text": [
      "Message(version=1, tag=Notification, source=Peer(group=null,id=18446744073709551615), destination=Peer(group=null,id=18446744073709551615), metadata={\"name\":\"example\",\"new_int\":1,\"new_float\":1,\"trigger\":\"step\",\"step\":1,\"precision\":\"single\"}, payload-size=0)\n"
     ]
    }
   ],
   "source": [
    "Multio.notify()"
   ]
  },
  {
   "cell_type": "markdown",
   "id": "c042a6a1-c344-4405-b20e-a1e07c8ad358",
   "metadata": {},
   "source": [
    "Finally we can close our connections if we are finsihed."
   ]
  },
  {
   "cell_type": "code",
   "execution_count": 10,
   "id": "799c37ca-f5fb-4da8-963e-cf2c2e1573c1",
   "metadata": {},
   "outputs": [],
   "source": [
    "Multio.close_connections()"
   ]
  },
  {
   "cell_type": "code",
   "execution_count": null,
   "id": "f739a6f4-5714-4e0d-8cd7-e5362e7ae085",
   "metadata": {},
   "outputs": [],
   "source": []
  }
 ],
 "metadata": {
  "kernelspec": {
   "display_name": "dte",
   "language": "python",
   "name": "dte"
  },
  "language_info": {
   "codemirror_mode": {
    "name": "ipython",
    "version": 3
   },
   "file_extension": ".py",
   "mimetype": "text/x-python",
   "name": "python",
   "nbconvert_exporter": "python",
   "pygments_lexer": "ipython3",
   "version": "3.8.15"
  }
 },
 "nbformat": 4,
 "nbformat_minor": 5
}
